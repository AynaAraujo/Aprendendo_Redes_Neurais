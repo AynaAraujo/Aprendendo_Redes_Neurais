{
  "nbformat": 4,
  "nbformat_minor": 0,
  "metadata": {
    "colab": {
      "provenance": [],
      "gpuType": "T4",
      "authorship_tag": "ABX9TyM8zKg1FEebeMUwBPjk1NSI",
      "include_colab_link": true
    },
    "kernelspec": {
      "name": "python3",
      "display_name": "Python 3"
    },
    "language_info": {
      "name": "python"
    },
    "accelerator": "GPU"
  },
  "cells": [
    {
      "cell_type": "markdown",
      "metadata": {
        "id": "view-in-github",
        "colab_type": "text"
      },
      "source": [
        "<a href=\"https://colab.research.google.com/github/AynaAraujo/Aprendendo_Redes_Neurais/blob/main/Sintaxe_do_Pytorch.ipynb\" target=\"_parent\"><img src=\"https://colab.research.google.com/assets/colab-badge.svg\" alt=\"Open In Colab\"/></a>"
      ]
    },
    {
      "cell_type": "markdown",
      "source": [
        "##Sintaxe do Pytorch:\n",
        "https://pytorch.org/docs/stable/tensors.html"
      ],
      "metadata": {
        "id": "iyhGF6U9i8et"
      }
    },
    {
      "cell_type": "markdown",
      "source": [
        "###Tipos de Tensores"
      ],
      "metadata": {
        "id": "F07BS6WwjC-W"
      }
    },
    {
      "cell_type": "code",
      "execution_count": null,
      "metadata": {
        "colab": {
          "base_uri": "https://localhost:8080/"
        },
        "id": "2Ugdc2KBhLVX",
        "outputId": "c653de3d-2452-469a-ba80-99a32617f6ea"
      },
      "outputs": [
        {
          "output_type": "stream",
          "name": "stdout",
          "text": [
            "torch.float32\n",
            "tensor([[1., 2., 3.],\n",
            "        [4., 5., 6.]])\n",
            "----------------------------------------\n",
            "torch.float32\n",
            "tensor([[1., 2., 3.],\n",
            "        [4., 5., 6.]])\n",
            "----------------------------------------\n",
            "torch.float64\n",
            "tensor([[1., 2., 3.],\n",
            "        [4., 5., 6.]], dtype=torch.float64)\n",
            "----------------------------------------\n",
            "torch.int64\n",
            "tensor([[1, 2, 3],\n",
            "        [4, 5, 6]])\n"
          ]
        }
      ],
      "source": [
        "import torch\n",
        "\n",
        "lista = [[1,2,3],\n",
        "         [4,5,6]]\n",
        "\n",
        "#Convertendo pra tensor\n",
        "tns = torch.Tensor(lista)\n",
        "print(tns.dtype)\n",
        "print(tns)\n",
        "\n",
        "print('--'*20)\n",
        "\n",
        "tns = torch.FloatTensor(lista)\n",
        "print(tns.dtype)\n",
        "print(tns)\n",
        "print('--'*20)\n",
        "\n",
        "tns = torch.DoubleTensor(lista)\n",
        "print(tns.dtype)\n",
        "print(tns)\n",
        "print('--'*20)\n",
        "tns = torch.LongTensor(lista)\n",
        "print(tns.dtype)\n",
        "print(tns)"
      ]
    },
    {
      "cell_type": "markdown",
      "source": [
        "###Outras formas de instanciar tensores"
      ],
      "metadata": {
        "id": "d-pBMHJfkUjH"
      }
    },
    {
      "cell_type": "markdown",
      "source": [
        "####**A partir de arrays Numpy**\n",
        "\n",
        "*torch.from_numpy()*"
      ],
      "metadata": {
        "id": "3t2Jad0rkty8"
      }
    },
    {
      "cell_type": "code",
      "source": [
        "import numpy as np\n",
        "\n",
        "arr = np.random.rand(3,4)\n",
        "tns = torch.from_numpy(arr)\n",
        "\n",
        "print(arr)\n",
        "print(arr.dtype)\n",
        "print('--'*20)\n",
        "print(tns)\n",
        "print(tns.dtype)\n",
        "\n",
        "#O tensor preserva o tipo original dos dados"
      ],
      "metadata": {
        "colab": {
          "base_uri": "https://localhost:8080/"
        },
        "id": "YMNPpCg9jBW9",
        "outputId": "e2e2f69e-b4f6-4197-e54c-e02ce2466783"
      },
      "execution_count": null,
      "outputs": [
        {
          "output_type": "stream",
          "name": "stdout",
          "text": [
            "[[0.27419906 0.54578596 0.92437986 0.45851515]\n",
            " [0.10167202 0.99429375 0.79720758 0.12263522]\n",
            " [0.52932988 0.45737376 0.4256361  0.83317553]]\n",
            "float64\n",
            "----------------------------------------\n",
            "tensor([[0.2742, 0.5458, 0.9244, 0.4585],\n",
            "        [0.1017, 0.9943, 0.7972, 0.1226],\n",
            "        [0.5293, 0.4574, 0.4256, 0.8332]], dtype=torch.float64)\n",
            "torch.float64\n"
          ]
        }
      ]
    },
    {
      "cell_type": "markdown",
      "source": [
        "####**Tensores inicializados**\n",
        "\n",
        "*torch.zeros()*-> Cria um tensor preenchido com zeros\n",
        "\n",
        "*torch.ones()*-> Cria um tensor preenchido com uns\n",
        "\n",
        "*torch.randn()*-> Cria um tensor preenchido com números aleatórios"
      ],
      "metadata": {
        "id": "PA9NXPfClpw_"
      }
    },
    {
      "cell_type": "code",
      "source": [
        "tns1 = torch.ones(2,3)\n",
        "tns0 = torch.zeros(4,5)\n",
        "tnsr = torch.randn(3,3)\n",
        "\n",
        "\n",
        "print(tns1)\n",
        "print('--'*20)\n",
        "print(tns0)\n",
        "print('--'*20)\n",
        "print(tnsr)\n",
        "print('--'*20)"
      ],
      "metadata": {
        "colab": {
          "base_uri": "https://localhost:8080/"
        },
        "id": "_tdRxpptku-N",
        "outputId": "b6e51996-0983-4a8f-f8db-ca29a3232232"
      },
      "execution_count": null,
      "outputs": [
        {
          "output_type": "stream",
          "name": "stdout",
          "text": [
            "tensor([[1., 1., 1.],\n",
            "        [1., 1., 1.]])\n",
            "----------------------------------------\n",
            "tensor([[0., 0., 0., 0., 0.],\n",
            "        [0., 0., 0., 0., 0.],\n",
            "        [0., 0., 0., 0., 0.],\n",
            "        [0., 0., 0., 0., 0.]])\n",
            "----------------------------------------\n",
            "tensor([[ 0.1593,  0.1685,  0.7305],\n",
            "        [ 0.0833,  0.7794, -0.4341],\n",
            "        [-0.3386, -0.7693,  0.9574]])\n",
            "----------------------------------------\n"
          ]
        }
      ]
    },
    {
      "cell_type": "markdown",
      "source": [
        "####**Tensor para array numpy**"
      ],
      "metadata": {
        "id": "LFb6mJxdm1yh"
      }
    },
    {
      "cell_type": "code",
      "source": [
        "arr = tnsr.data.numpy() #Isola o atributo data\n",
        "print(arr)\n",
        "print(type(arr))\n",
        "print(type(tnsr))"
      ],
      "metadata": {
        "colab": {
          "base_uri": "https://localhost:8080/"
        },
        "id": "DaAEBgJ8kYoZ",
        "outputId": "21c32796-baa7-434f-b46a-5dd1d6261d49"
      },
      "execution_count": null,
      "outputs": [
        {
          "output_type": "stream",
          "name": "stdout",
          "text": [
            "[[ 0.15930939  0.1684736   0.73051596]\n",
            " [ 0.08325286  0.77937555 -0.43409115]\n",
            " [-0.33855367 -0.76931053  0.95741284]]\n",
            "<class 'numpy.ndarray'>\n",
            "<class 'torch.Tensor'>\n"
          ]
        }
      ]
    },
    {
      "cell_type": "markdown",
      "source": [
        "####**Indexação**"
      ],
      "metadata": {
        "id": "B1-E8WTT6Lfb"
      }
    },
    {
      "cell_type": "code",
      "source": [
        "print(tnsr)\n",
        "#Pegando um valor específico do tensor(index)\n",
        "tnsr[0,2] = -10\n",
        "\n",
        "print('--'*20)\n",
        "\n",
        "print(tnsr)"
      ],
      "metadata": {
        "colab": {
          "base_uri": "https://localhost:8080/"
        },
        "id": "mdK7Xi85njwx",
        "outputId": "35350748-fd3a-450a-a324-4884386d2014"
      },
      "execution_count": null,
      "outputs": [
        {
          "output_type": "stream",
          "name": "stdout",
          "text": [
            "tensor([[ 0.1593,  0.1685,  0.7305],\n",
            "        [ 0.0833,  0.7794, -0.4341],\n",
            "        [-0.3386, -0.7693,  0.9574]])\n",
            "----------------------------------------\n",
            "tensor([[  0.1593,   0.1685, -10.0000],\n",
            "        [  0.0833,   0.7794,  -0.4341],\n",
            "        [ -0.3386,  -0.7693,   0.9574]])\n"
          ]
        }
      ]
    },
    {
      "cell_type": "code",
      "source": [
        "print(tnsr[0:2])\n",
        "print('--'*20)\n",
        "print(tnsr[:,2])\n",
        "print('--'*20)\n",
        "print(tnsr[0,2])\n",
        "print(tnsr[0,2].size())"
      ],
      "metadata": {
        "colab": {
          "base_uri": "https://localhost:8080/"
        },
        "id": "yy1DY5sd6j3h",
        "outputId": "f27cdd70-5c9a-4a6d-e25c-18d117f58612"
      },
      "execution_count": null,
      "outputs": [
        {
          "output_type": "stream",
          "name": "stdout",
          "text": [
            "tensor([[  0.1593,   0.1685, -10.0000],\n",
            "        [  0.0833,   0.7794,  -0.4341]])\n",
            "----------------------------------------\n",
            "tensor([-10.0000,  -0.4341,   0.9574])\n",
            "----------------------------------------\n",
            "tensor(-10.)\n",
            "torch.Size([])\n"
          ]
        }
      ]
    },
    {
      "cell_type": "markdown",
      "source": [
        "###**Operações com Tensores**"
      ],
      "metadata": {
        "id": "ALSbbL7a7NiH"
      }
    },
    {
      "cell_type": "markdown",
      "source": [
        "*.item()* -->Returns the value of this tensor as a standard Python number. This only works for tensors with one element."
      ],
      "metadata": {
        "id": "e6DwDc437YEQ"
      }
    },
    {
      "cell_type": "code",
      "source": [
        "print(tnsr.shape)\n",
        "print(tns1.shape)\n",
        "#Não tem a mesma dimensão\n",
        "print('--'*10)\n",
        "tns = tnsr [0:2,:]\n",
        "print(tns.shape)\n",
        "print(tns1.shape)"
      ],
      "metadata": {
        "colab": {
          "base_uri": "https://localhost:8080/"
        },
        "id": "vNwVEXUY6u1d",
        "outputId": "b3089383-7497-4387-a310-a2dd10bb29dd"
      },
      "execution_count": null,
      "outputs": [
        {
          "output_type": "stream",
          "name": "stdout",
          "text": [
            "torch.Size([3, 3])\n",
            "torch.Size([2, 3])\n",
            "--------------------\n",
            "torch.Size([2, 3])\n",
            "torch.Size([2, 3])\n"
          ]
        }
      ]
    },
    {
      "cell_type": "code",
      "source": [
        "print(tns)\n",
        "print(tns1)"
      ],
      "metadata": {
        "colab": {
          "base_uri": "https://localhost:8080/"
        },
        "id": "Nu6le4LA-oyw",
        "outputId": "e5f73dee-4e49-4bae-b862-842feed71ad7"
      },
      "execution_count": null,
      "outputs": [
        {
          "output_type": "stream",
          "name": "stdout",
          "text": [
            "tensor([[  0.1593,   0.1685, -10.0000],\n",
            "        [  0.0833,   0.7794,  -0.4341]])\n",
            "tensor([[1., 1., 1.],\n",
            "        [1., 1., 1.]])\n"
          ]
        }
      ]
    },
    {
      "cell_type": "code",
      "source": [
        "#Operações\n",
        "print(tns + tns1)\n",
        "\n",
        "print(tns * tns1)#MULTIPLICAÇÃO ESCALAR!\n",
        "\n",
        "print(tns / tns1)"
      ],
      "metadata": {
        "colab": {
          "base_uri": "https://localhost:8080/"
        },
        "id": "2zfbRMmF-Hyz",
        "outputId": "db5a1c93-648f-4b9c-847e-68b8344b29d9"
      },
      "execution_count": null,
      "outputs": [
        {
          "output_type": "stream",
          "name": "stdout",
          "text": [
            "tensor([[ 1.1593,  1.1685, -9.0000],\n",
            "        [ 1.0833,  1.7794,  0.5659]])\n",
            "tensor([[  0.1593,   0.1685, -10.0000],\n",
            "        [  0.0833,   0.7794,  -0.4341]])\n",
            "tensor([[  0.1593,   0.1685, -10.0000],\n",
            "        [  0.0833,   0.7794,  -0.4341]])\n"
          ]
        }
      ]
    },
    {
      "cell_type": "code",
      "source": [
        "#Multiplicação entre matrizes\n",
        "print(torch.mm(tns1,tns.T))#Como a qtd de linhas da 1 tem q ser igual a qtd de colunas da segunda precisamos transpor umas"
      ],
      "metadata": {
        "colab": {
          "base_uri": "https://localhost:8080/"
        },
        "id": "miAqA8Hu-lZe",
        "outputId": "109003a2-1fbc-4120-ac83-b95632a737ba"
      },
      "execution_count": null,
      "outputs": [
        {
          "output_type": "stream",
          "name": "stdout",
          "text": [
            "tensor([[-9.6722,  0.4285],\n",
            "        [-9.6722,  0.4285]])\n"
          ]
        }
      ]
    },
    {
      "cell_type": "code",
      "source": [],
      "metadata": {
        "id": "v6__R2Dh_cf3"
      },
      "execution_count": null,
      "outputs": []
    },
    {
      "cell_type": "markdown",
      "source": [
        "###**Função .size() e .view()**"
      ],
      "metadata": {
        "id": "K4BfGzAc_kF2"
      }
    },
    {
      "cell_type": "code",
      "source": [
        "print(tns1.size()) #Nesse caso ele retorna um objeto\n",
        "print('--'*20)\n",
        "\n",
        "tns= torch.randn(2,2,3)\n",
        "print(tns)\n",
        "print('--'*20)\n",
        "\n",
        "tns_01 = tns.view(12) #Redimensionou\n",
        "print(tns_01)\n",
        "\n",
        "print('--'*20)\n",
        "tns_1 = tns.view(-1)\n",
        "print(tns_1)"
      ],
      "metadata": {
        "colab": {
          "base_uri": "https://localhost:8080/"
        },
        "id": "6ibU2m-0_pCA",
        "outputId": "a13e2dd5-8c28-4b6d-f4b4-40326170eba0"
      },
      "execution_count": null,
      "outputs": [
        {
          "output_type": "stream",
          "name": "stdout",
          "text": [
            "torch.Size([2, 3])\n",
            "----------------------------------------\n",
            "tensor([[[ 0.1872, -0.6120, -0.0079],\n",
            "         [-1.2824, -1.3017, -1.0982]],\n",
            "\n",
            "        [[-1.0835,  1.1613, -0.8021],\n",
            "         [ 0.4638, -0.8882,  0.0688]]])\n",
            "----------------------------------------\n",
            "tensor([ 0.1872, -0.6120, -0.0079, -1.2824, -1.3017, -1.0982, -1.0835,  1.1613,\n",
            "        -0.8021,  0.4638, -0.8882,  0.0688])\n",
            "----------------------------------------\n",
            "tensor([ 0.1872, -0.6120, -0.0079, -1.2824, -1.3017, -1.0982, -1.0835,  1.1613,\n",
            "        -0.8021,  0.4638, -0.8882,  0.0688])\n"
          ]
        }
      ]
    },
    {
      "cell_type": "markdown",
      "source": [
        "##**GPU Cast**"
      ],
      "metadata": {
        "id": "jL4sIfQoA--h"
      }
    },
    {
      "cell_type": "code",
      "source": [
        "if torch.cuda.is_available():\n",
        "  device = torch.device('cuda')\n",
        "else:\n",
        "  device = torch.device('cpu')\n",
        "\n",
        "print(device)"
      ],
      "metadata": {
        "colab": {
          "base_uri": "https://localhost:8080/"
        },
        "id": "OZekXELE_uOn",
        "outputId": "48fe4555-4515-4a36-8b6f-3e551dcb07b9"
      },
      "execution_count": null,
      "outputs": [
        {
          "output_type": "stream",
          "name": "stdout",
          "text": [
            "cuda\n"
          ]
        }
      ]
    },
    {
      "cell_type": "code",
      "source": [
        "#Jogando var no GPU\n",
        "tns = tns.to(device)\n",
        "print(tns)"
      ],
      "metadata": {
        "colab": {
          "base_uri": "https://localhost:8080/"
        },
        "id": "8TsAabnwBFKe",
        "outputId": "c8f46c96-2ed2-4df1-8a79-b5af9a63c5ab"
      },
      "execution_count": null,
      "outputs": [
        {
          "output_type": "stream",
          "name": "stdout",
          "text": [
            "tensor([[[ 0.1872, -0.6120, -0.0079],\n",
            "         [-1.2824, -1.3017, -1.0982]],\n",
            "\n",
            "        [[-1.0835,  1.1613, -0.8021],\n",
            "         [ 0.4638, -0.8882,  0.0688]]], device='cuda:0')\n"
          ]
        }
      ]
    },
    {
      "cell_type": "code",
      "source": [],
      "metadata": {
        "id": "S6IOno09BzGB"
      },
      "execution_count": null,
      "outputs": []
    }
  ]
}