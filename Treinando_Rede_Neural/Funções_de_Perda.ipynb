{
  "nbformat": 4,
  "nbformat_minor": 0,
  "metadata": {
    "colab": {
      "provenance": [],
      "include_colab_link": true
    },
    "kernelspec": {
      "name": "python3",
      "display_name": "Python 3"
    },
    "accelerator": "GPU"
  },
  "cells": [
    {
      "cell_type": "markdown",
      "metadata": {
        "id": "view-in-github",
        "colab_type": "text"
      },
      "source": [
        "<a href=\"https://colab.research.google.com/github/AynaAraujo/Aprendendo_Redes_Neurais/blob/main/Treinando_Rede_Neural/Fun%C3%A7%C3%B5es_de_Perda.ipynb\" target=\"_parent\"><img src=\"https://colab.research.google.com/assets/colab-badge.svg\" alt=\"Open In Colab\"/></a>"
      ]
    },
    {
      "cell_type": "markdown",
      "metadata": {
        "id": "91OmaEPyU934"
      },
      "source": [
        "# Funções de Perda"
      ]
    },
    {
      "cell_type": "markdown",
      "metadata": {
        "id": "MELVfk5jU_7_"
      },
      "source": [
        "O módulo ```nn``` e suas 1001 utilidades, também fornece as implementações das principais funções de perda. Então vamos primeiro importar o ```torch``` e o módulo ```nn``` <br>"
      ]
    },
    {
      "cell_type": "code",
      "metadata": {
        "id": "HiJE9dQOJnpY"
      },
      "source": [
        "import torch\n",
        "from torch import nn"
      ],
      "execution_count": null,
      "outputs": []
    },
    {
      "cell_type": "markdown",
      "metadata": {
        "id": "MwDcFjfubok8"
      },
      "source": [
        "Antes de tudo, vamos conferir qual dispositivo de hardware está disponível para uso."
      ]
    },
    {
      "cell_type": "code",
      "metadata": {
        "id": "YFD6bwi7boNM",
        "outputId": "6583e1da-2b14-478b-b2da-34ff500de6cd",
        "colab": {
          "base_uri": "https://localhost:8080/"
        }
      },
      "source": [
        "#Verificando se a GPU está disponível\n",
        "if torch.cuda.is_available():\n",
        "  device = torch.device('cuda')\n",
        "else:\n",
        "  device = torch.device('cpu')\n",
        "\n",
        "print(device)"
      ],
      "execution_count": null,
      "outputs": [
        {
          "output_type": "stream",
          "name": "stdout",
          "text": [
            "cuda\n"
          ]
        }
      ]
    },
    {
      "cell_type": "markdown",
      "metadata": {
        "id": "139Z-qFgQUiH"
      },
      "source": [
        "Vamos trabalhar com o dataset de classificação de vinhos.\n",
        "\n",
        "https://scikit-learn.org/stable/modules/generated/sklearn.datasets.load_wine.html\n"
      ]
    },
    {
      "cell_type": "code",
      "metadata": {
        "id": "gvJEZr8BQIgG",
        "colab": {
          "base_uri": "https://localhost:8080/"
        },
        "outputId": "36cf9aff-2cc4-4aac-895b-72e83a39b59a"
      },
      "source": [
        "#Para importar os datasets\n",
        "from sklearn import datasets\n",
        "\n",
        "\n",
        "wine = datasets.load_wine() #Carrega dataset de vinho\n",
        "data = wine.data #Pega os dados do dataset\n",
        "target = wine.target #Pega os rótulos do dataset\n",
        "\n",
        "print(data.shape, target.shape) #Dimensão\n",
        "print(wine.feature_names, wine.target_names) #Nomes"
      ],
      "execution_count": null,
      "outputs": [
        {
          "output_type": "stream",
          "name": "stdout",
          "text": [
            "(178, 13) (178,)\n",
            "['alcohol', 'malic_acid', 'ash', 'alcalinity_of_ash', 'magnesium', 'total_phenols', 'flavanoids', 'nonflavanoid_phenols', 'proanthocyanins', 'color_intensity', 'hue', 'od280/od315_of_diluted_wines', 'proline'] ['class_0' 'class_1' 'class_2']\n"
          ]
        }
      ]
    },
    {
      "cell_type": "code",
      "source": [
        "target[-1] #é um número\n",
        "data[-1] #Sequencia de caracteres"
      ],
      "metadata": {
        "colab": {
          "base_uri": "https://localhost:8080/"
        },
        "id": "FHHmEWF4ZScp",
        "outputId": "0b7a62de-b2e0-4d5a-bddf-c0a4bd5c15e2"
      },
      "execution_count": null,
      "outputs": [
        {
          "output_type": "execute_result",
          "data": {
            "text/plain": [
              "array([ 14.13,   4.1 ,   2.74,  24.5 ,  96.  ,   2.05,   0.76,   0.56,\n",
              "         1.35,   9.2 ,   0.61,   1.6 , 560.  ])"
            ]
          },
          "metadata": {},
          "execution_count": 4
        }
      ]
    },
    {
      "cell_type": "markdown",
      "metadata": {
        "id": "iRSDsjmqVTB2"
      },
      "source": [
        "\n",
        "Vamos instanciar um MLP com uma camada escondida e uma camada de saída. <br>"
      ]
    },
    {
      "cell_type": "code",
      "metadata": {
        "id": "HVXMwEEjVTa3"
      },
      "source": [
        "class WineClassifier(nn.Module):\n",
        "  #Sempre deve ter as defs: init e foward\n",
        "\n",
        "  def __init__(self, input_size, hidden_size, out_size):\n",
        "    super(WineClassifier, self).__init__() #Inicializa a super classe\n",
        "\n",
        "    #Arquitetura\n",
        "    self.hidden  = nn.Linear(input_size, hidden_size)\n",
        "    self.relu    = nn.ReLU()\n",
        "    self.out     = nn.Linear(hidden_size, out_size)\n",
        "    self.softmax = nn.Softmax() #Transforma a saída em probabilidades\n",
        "\n",
        "  def forward(self, X):\n",
        "\n",
        "    feature = self.relu(self.hidden(X)) #Ativação da camada intermediária\n",
        "    output  = self.softmax(self.out(feature)) #Ativação output linear\n",
        "\n",
        "    return output\n",
        "\n",
        "input_size  = data.shape[1] #qtd de dados/features\n",
        "hidden_size = 32 #hiperparâmetro definido pelo programador\n",
        "out_size    = len(wine.target_names) #Classes de saída\n",
        "\n",
        "net = WineClassifier(input_size, hidden_size, out_size).to(device) #cast na GPU"
      ],
      "execution_count": null,
      "outputs": []
    },
    {
      "cell_type": "code",
      "metadata": {
        "id": "ENamhT6UVZrY",
        "colab": {
          "base_uri": "https://localhost:8080/"
        },
        "outputId": "a9b9c989-0de9-4527-b3de-c673e95cd450"
      },
      "source": [
        "print(net)"
      ],
      "execution_count": null,
      "outputs": [
        {
          "output_type": "stream",
          "name": "stdout",
          "text": [
            "WineClassifier(\n",
            "  (hidden): Linear(in_features=13, out_features=32, bias=True)\n",
            "  (relu): ReLU()\n",
            "  (out): Linear(in_features=32, out_features=3, bias=True)\n",
            "  (softmax): Softmax(dim=None)\n",
            ")\n"
          ]
        }
      ]
    },
    {
      "cell_type": "markdown",
      "metadata": {
        "id": "Wzm3ruHeWhKR"
      },
      "source": [
        "## Classificação\n",
        "\n",
        "O primeiro passo é instanciar a função de perda de sua escolha. Trata-se de um problema de classificação com 3 classes, nesse caso a Cross Entropy é a função recomendada, que no PyTorch recebe o nome de *CrossEntropyLoss*: https://pytorch.org/docs/stable/nn.html#crossentropyloss\n",
        "\n",
        "**Assim como a rede, as entradas e os rótulos, a função de perda também deve ser carregada na GPU**\n"
      ]
    },
    {
      "cell_type": "code",
      "metadata": {
        "id": "ZWSHXeO-WbQh"
      },
      "source": [
        "#Jogando função de entropia cruzada na GPU\n",
        "criterion = nn.CrossEntropyLoss().to(device) # cast na GPU"
      ],
      "execution_count": null,
      "outputs": []
    },
    {
      "cell_type": "markdown",
      "metadata": {
        "id": "fj9l470ZXMuF"
      },
      "source": [
        "Antes de aplicar a função de perda, vamos fazer o cast dos dados para tensores e extrair as predições ```y'``` da rede."
      ]
    },
    {
      "cell_type": "code",
      "metadata": {
        "id": "mgYO7UfjXNB9",
        "colab": {
          "base_uri": "https://localhost:8080/"
        },
        "outputId": "e96d9805-a849-48e8-9e5c-c7107ebea040"
      },
      "source": [
        "#Transformando dados em Tensores(matrizes)\n",
        "Xtns = torch.from_numpy(data).float() #Como não usamos double tem que converter pra Float\n",
        "Ytns = torch.from_numpy(target)\n",
        "\n",
        "# Cast na GPU\n",
        "Xtns = Xtns.to(device)\n",
        "Ytns = Ytns.to(device)\n",
        "\n",
        "print(Xtns.dtype, Ytns.dtype)"
      ],
      "execution_count": null,
      "outputs": [
        {
          "output_type": "stream",
          "name": "stdout",
          "text": [
            "torch.float32 torch.int64\n"
          ]
        }
      ]
    },
    {
      "cell_type": "code",
      "metadata": {
        "id": "q6OLd3MPZ42o",
        "colab": {
          "base_uri": "https://localhost:8080/"
        },
        "outputId": "faccf9ea-5717-4891-a678-d385e5b94982"
      },
      "source": [
        "pred = net(Xtns)\n",
        "\n",
        "print(pred.shape)\n",
        "print(pred[0]) #Como não treinamos ainda, retorna valor aleatório"
      ],
      "execution_count": null,
      "outputs": [
        {
          "output_type": "stream",
          "name": "stderr",
          "text": [
            "/usr/local/lib/python3.11/dist-packages/torch/nn/modules/module.py:1739: UserWarning: Implicit dimension choice for softmax has been deprecated. Change the call to include dim=X as an argument.\n",
            "  return self._call_impl(*args, **kwargs)\n"
          ]
        },
        {
          "output_type": "stream",
          "name": "stdout",
          "text": [
            "torch.Size([178, 3])\n",
            "tensor([0.0000e+00, 1.0000e+00, 3.4619e-38], device='cuda:0',\n",
            "       grad_fn=<SelectBackward0>)\n"
          ]
        }
      ]
    },
    {
      "cell_type": "markdown",
      "metadata": {
        "id": "Fxt1i_ibaTqT"
      },
      "source": [
        "Confira as dimensões de ```y``` e ```y'```. Enquanto as predições estão em termos de probabilidades, os rótulos de classificação devem são valores inteiros referentes aos índices das classes."
      ]
    },
    {
      "cell_type": "code",
      "metadata": {
        "id": "3-FZ8Fe5aMZC",
        "colab": {
          "base_uri": "https://localhost:8080/"
        },
        "outputId": "9e81a79e-df86-4afa-887a-36dc14310d59"
      },
      "source": [
        "print(pred.shape, Ytns.shape)\n",
        "\n",
        "#Não tem problema o pred e o Ytns terem dimensões diferentes\n",
        "print(pred[0].data, Ytns[0].data)"
      ],
      "execution_count": null,
      "outputs": [
        {
          "output_type": "stream",
          "name": "stdout",
          "text": [
            "torch.Size([178, 3]) torch.Size([178])\n",
            "tensor([0.0000e+00, 1.0000e+00, 3.4619e-38], device='cuda:0') tensor(0, device='cuda:0')\n"
          ]
        }
      ]
    },
    {
      "cell_type": "markdown",
      "metadata": {
        "id": "b6RQRX0ZYXtH"
      },
      "source": [
        "As funções de perda implementadas no PyTorch esperam o seguinte padrão de chamada:\n",
        "\n",
        "```python\n",
        "loss = criterion(prediction, target)\n",
        "```\n",
        "\n",
        "Vale lembrar que cada função de perda possui especificidades quanto às dimensões dos seus parâmetros. Para a Cross Entropy:\n",
        "* prediction: ```(N, C)```\n",
        "* target: ```(N,)```"
      ]
    },
    {
      "cell_type": "code",
      "metadata": {
        "id": "uo-xj2_na6fT",
        "colab": {
          "base_uri": "https://localhost:8080/"
        },
        "outputId": "8ef08b81-2a41-4ccd-9b4b-697da58d19b3"
      },
      "source": [
        "#loss de 1 dado\n",
        "loss = criterion(pred[0].unsqueeze(0), Ytns[0].unsqueeze(0))\n",
        "print(loss)\n",
        "\n",
        "#loss média para intervalo de dados\n",
        "loss = criterion(pred[:30], Ytns[:30])\n",
        "print(loss)\n",
        "\n",
        "\n",
        "#loss média\n",
        "loss = criterion(pred, Ytns)\n",
        "print(loss)"
      ],
      "execution_count": null,
      "outputs": [
        {
          "output_type": "stream",
          "name": "stdout",
          "text": [
            "tensor(1.5514, device='cuda:0', grad_fn=<NllLossBackward0>)\n",
            "tensor(1.5514, device='cuda:0', grad_fn=<NllLossBackward0>)\n",
            "tensor(1.1526, device='cuda:0', grad_fn=<NllLossBackward0>)\n"
          ]
        }
      ]
    },
    {
      "cell_type": "markdown",
      "metadata": {
        "id": "qniVROKSc4RW"
      },
      "source": [
        "## Regressão\n"
      ]
    },
    {
      "cell_type": "markdown",
      "metadata": {
        "id": "1LyOLrztc2cQ"
      },
      "source": [
        "Vamos trabalhar com o dataset de Diabetes, cujo objetivo é prever a progressão da diabetes em um paciente.\n",
        "\n",
        "https://scikit-learn.org/stable/datasets/index.html#diabetes-dataset"
      ]
    },
    {
      "cell_type": "code",
      "metadata": {
        "id": "X_vTwg_fc24l",
        "outputId": "96ef0c86-32df-41fd-e172-63abfa2dea75",
        "colab": {
          "base_uri": "https://localhost:8080/"
        }
      },
      "source": [
        "from sklearn import datasets\n",
        "\n",
        "#Importando o dataset de diabetes\n",
        "diabetes = datasets.load_diabetes()\n",
        "data = diabetes.data\n",
        "target = diabetes.target\n",
        "\n",
        "print(data.shape, target.shape)\n",
        "\n",
        "print(data[14])\n",
        "print(target[14]) #Agora são valores Contínuos"
      ],
      "execution_count": null,
      "outputs": [
        {
          "output_type": "stream",
          "name": "stdout",
          "text": [
            "(442, 10) (442,)\n",
            "[ 4.53409833e-02 -4.46416365e-02 -2.56065715e-02 -1.25561242e-02\n",
            "  1.76943802e-02 -6.12835791e-05  8.17748397e-02 -3.94933829e-02\n",
            " -3.19876395e-02 -7.56356220e-02]\n",
            "118.0\n"
          ]
        }
      ]
    },
    {
      "cell_type": "markdown",
      "metadata": {
        "id": "dC3OaC5VdXng"
      },
      "source": [
        "Implementando o MLP"
      ]
    },
    {
      "cell_type": "code",
      "metadata": {
        "id": "rGKUNv31dXC8"
      },
      "source": [
        "class WineClassifier(nn.Module):\n",
        "\n",
        "  def __init__(self, input_size, hidden_size, out_size):\n",
        "    super(WineClassifier, self).__init__()\n",
        "\n",
        "    #Arquitetura\n",
        "    self.hidden  = nn.Linear(input_size, hidden_size)\n",
        "    self.relu    = nn.ReLU()\n",
        "    self.out     = nn.Linear(hidden_size, out_size)\n",
        "    self.softmax = nn.Softmax(dim=-1)\n",
        "\n",
        "  def forward(self, X):\n",
        "\n",
        "    feature = self.relu(self.hidden(X))\n",
        "    output  = self.softmax(self.out(feature))\n",
        "\n",
        "    return output\n",
        "\n",
        "input_size  = data.shape[1]\n",
        "hidden_size = 32\n",
        "out_size    = 1  # qtd de vars que queremos fazer a regressão\n",
        "                # 1 pois só queremos saber se a pessoa é diabética ou não\n",
        "\n",
        "net = WineClassifier(input_size, hidden_size, out_size).to(device) #cast na GPU"
      ],
      "execution_count": null,
      "outputs": []
    },
    {
      "cell_type": "markdown",
      "metadata": {
        "id": "PRrZkE19c15k"
      },
      "source": [
        "Para solucionar problemas de regressão, as funções de perda correspondentes esperam que ambos o rótulo e a predição tenham **a mesma dimensionalidade**. Não se trata mais de um problema categórico.\n",
        "\n",
        "Portanto, vamos simular um problema de regressão e aplicar a *MSELoss*<br>\n",
        "Documentação: https://pytorch.org/docs/stable/nn.html#mseloss"
      ]
    },
    {
      "cell_type": "code",
      "metadata": {
        "id": "Jzu7ZxbdcRsu",
        "outputId": "f5ad0fe5-1562-4f32-8ddd-92dac03d0fc4",
        "colab": {
          "base_uri": "https://localhost:8080/"
        }
      },
      "source": [
        "#Critério de Regressão\n",
        "criterion = nn.MSELoss().to(device) #Jogando na   GPU\n",
        "\n",
        "# Cast na GPU\n",
        "Xtns = torch.from_numpy(data).float().to(device)\n",
        "Ytns = torch.from_numpy(target).float().to(device)\n",
        "\n",
        "#PRED E RÓTULO PRECISA TER MSM DIMENSIONALIDADE\n",
        "print(Xtns.shape, Ytns.shape)"
      ],
      "execution_count": null,
      "outputs": [
        {
          "output_type": "stream",
          "name": "stdout",
          "text": [
            "torch.Size([442, 10]) torch.Size([442])\n"
          ]
        }
      ]
    },
    {
      "cell_type": "code",
      "metadata": {
        "id": "ltlmEeIDeAzC",
        "outputId": "733f1824-6b7d-4c63-b172-1296177008af",
        "colab": {
          "base_uri": "https://localhost:8080/"
        }
      },
      "source": [
        "pred = net(Xtns)\n",
        "print(pred.shape)\n",
        "loss = criterion(pred.squeeze(), Ytns)\n",
        "print(loss.data)"
      ],
      "execution_count": null,
      "outputs": [
        {
          "output_type": "stream",
          "name": "stdout",
          "text": [
            "torch.Size([442, 1])\n",
            "tensor(28771.2168, device='cuda:0')\n"
          ]
        }
      ]
    },
    {
      "cell_type": "code",
      "metadata": {
        "id": "qxc79Z9-QTuY",
        "outputId": "43e2814e-170f-4b14-ce0c-480284fcef04",
        "colab": {
          "base_uri": "https://localhost:8080/"
        }
      },
      "source": [
        "criterion = nn.L1Loss().to(device)\n",
        "\n",
        "pred = net(Xtns)\n",
        "\n",
        "loss = criterion(pred.squeeze(), Ytns)\n",
        "print(loss.data)"
      ],
      "execution_count": null,
      "outputs": [
        {
          "output_type": "stream",
          "name": "stdout",
          "text": [
            "tensor(151.1335, device='cuda:0')\n"
          ]
        }
      ]
    },
    {
      "cell_type": "markdown",
      "metadata": {
        "id": "g92P_wBNgyb-"
      },
      "source": [
        "## Documentação\n",
        "Veja a documentação para consultar a lista de todas as funções de perda implementadas no PyTorch: <br>\n",
        "https://pytorch.org/docs/stable/nn.html#loss-functions"
      ]
    }
  ]
}